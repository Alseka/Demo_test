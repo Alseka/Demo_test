{
    "cells": [
        {
            "cell_type": "markdown",
            "metadata": {
                "collapsed": true
            },
            "source": "# Data preporation"
        },
        {
            "cell_type": "code",
            "execution_count": 1,
            "metadata": {},
            "outputs": [
                {
                    "name": "stdout",
                    "output_type": "stream",
                    "text": "PLan\n"
                }
            ],
            "source": "print('PLan')"
        },
        {
            "cell_type": "code",
            "execution_count": 2,
            "metadata": {},
            "outputs": [
                {
                    "name": "stdout",
                    "output_type": "stream",
                    "text": "Hello, My name is chat-bot Seka\nWhat's your name?\n"
                }
            ],
            "source": "print('Hello, My name is chat-bot Seka')\nprint(\"What's your name?\")"
        },
        {
            "cell_type": "code",
            "execution_count": 3,
            "metadata": {},
            "outputs": [
                {
                    "name": "stdout",
                    "output_type": "stream",
                    "text": "Serik\nNice to meet you Serik\n"
                }
            ],
            "source": "name = input()\nprint('Nice to meet you', name)"
        },
        {
            "cell_type": "code",
            "execution_count": null,
            "metadata": {},
            "outputs": [],
            "source": "print(\"What's plan? Do you want some data?\")\nprint(\"Write Yes or No\")\nanswer = input()\nif answer.lower() in \"yes\":\n      print(\"Good choose, let's start\")\nif answer.lower() in 'no':\n      print(\"Ok, Let's talk about you.\", \"Let me know how old are you\")\n      print(\"Please, take ordinal number of the month (for example, the 1st month is January).\n      print(\"1) Multiply this number by 100\")\n      print(\"2) Add your date of birth (for example, the day of the month)\")\n      print(\"3) Double the amount (multiply by 2)\")\n      print(\"4) Add 8\")\n      print(\"5) Multiply the resulting number by 5\")\n      print(\"6) Add 4\")\n      print(\"7) Multiply the result by 10\")\n      print(\"8) Add 4\")\n      print(\"9) add your age to the resulting number\")\n      print(\"If you ok in math and use calculater, don't forget push '=' for every step. Let's input your resulting number\")\n      res_num = input() #\n      if len(res_num) == 5:\n            age = int(res_nim) - 444\n            age_str = str(age)\n            month = age_str[0]\n            if int(month) < 13 \n            #need Index 0 = month, index 1 and 2 = date , index 3 and 4 = age\n            m_th={1:'\u042f\u043d\u0432\u0430\u0440\u044c',2:'\u0424\u0435\u0432\u0440\u0430\u043b\u044c',3:'\u041c\u0430\u0440\u0442',4:'\u0410\u043f\u0440\u0435\u043b\u044c',5:'\u041c\u0430\u0439',6:'\u0418\u044e\u043d\u044c',7:'\u0418\u044e\u043b\u044c',8:'\u0410\u0432\u0433\u0443\u0441\u0442',9:'\u0421\u0435\u043d\u0442\u044f\u0431\u0440\u044c',10:'\u041e\u043a\u0442\u044f\u0431\u0440\u044c',11:'\u041d\u043e\u044f\u0431\u0440\u044c',12:'\u0414\u0435\u043a\u0430\u0431\u0440\u044c'}\n                print(month[nb])\n\n      elif len(res_num) == 6:\n             # index 0 and 1 = month, index 2 and 3 = date, index = 4 and 5 =  age\n            \n      else:\n          print('Your number is wrong, please try again') #add while if mistake\n            res_num = input()\n                  "
        },
        {
            "cell_type": "code",
            "execution_count": null,
            "metadata": {},
            "outputs": [],
            "source": "\nres_num = input()\n\n\n# This function adds two numbers\ndef add(x, y):\n    return x + y\n\n# This function subtracts two numbers\ndef subtract(x, y):\n    return x - y\n\n# This function multiplies two numbers\ndef multiply(x, y):\n    return x * y\n\n# This function divides two numbers\ndef divide(x, y):\n    return x / y\n\n\nprint(\"Select operation.\")\nprint(\"1.Add\")\nprint(\"2.Subtract\")\nprint(\"3.Multiply\")\nprint(\"4.Divide\")\n\nwhile True:\n    # take input from the user\n    choice = input(\"Enter choice(1/2/3/4): \")\n\n    # check if choice is one of the four options\n    if choice in ('1', '2', '3', '4'):\n        num1 = float(input(\"Enter first number: \"))\n        num2 = float(input(\"Enter second number: \"))\n\n        if choice == '1':\n            print(num1, \"+\", num2, \"=\", add(num1, num2))\n\n        elif choice == '2':\n            print(num1, \"-\", num2, \"=\", subtract(num1, num2))\n\n        elif choice == '3':\n            print(num1, \"*\", num2, \"=\", multiply(num1, num2))\n\n        elif choice == '4':\n            print(num1, \"/\", num2, \"=\", divide(num1, num2))\n        \n        # check if user wants another calculation\n        # break the while loop if answer is no\n        next_calculation = input(\"Let's do next calculation? (yes/no): \")\n        if next_calculation == \"no\":\n          break\n    \n    else:\n        print(\"Invalid Input\")"
        },
        {
            "cell_type": "code",
            "execution_count": null,
            "metadata": {},
            "outputs": [],
            "source": ""
        },
        {
            "cell_type": "code",
            "execution_count": null,
            "metadata": {},
            "outputs": [],
            "source": ""
        }
    ],
    "metadata": {
        "kernelspec": {
            "display_name": "Python 3.10",
            "language": "python",
            "name": "python3"
        },
        "language_info": {
            "codemirror_mode": {
                "name": "ipython",
                "version": 3
            },
            "file_extension": ".py",
            "mimetype": "text/x-python",
            "name": "python",
            "nbconvert_exporter": "python",
            "pygments_lexer": "ipython3",
            "version": "3.10.6"
        }
    },
    "nbformat": 4,
    "nbformat_minor": 1
}